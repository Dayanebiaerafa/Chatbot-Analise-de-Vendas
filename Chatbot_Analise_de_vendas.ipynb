{
  "nbformat": 4,
  "nbformat_minor": 0,
  "metadata": {
    "colab": {
      "provenance": [],
      "authorship_tag": "ABX9TyMWL2PyjaNxH+j77zTA87jK",
      "include_colab_link": true
    },
    "kernelspec": {
      "name": "python3",
      "display_name": "Python 3"
    },
    "language_info": {
      "name": "python"
    }
  },
  "cells": [
    {
      "cell_type": "markdown",
      "metadata": {
        "id": "view-in-github",
        "colab_type": "text"
      },
      "source": [
        "<a href=\"https://colab.research.google.com/github/Dayanebiaerafa/Chatbot-Analise-de-Vendas/blob/main/Chatbot_Analise_de_vendas.ipynb\" target=\"_parent\"><img src=\"https://colab.research.google.com/assets/colab-badge.svg\" alt=\"Open In Colab\"/></a>"
      ]
    },
    {
      "cell_type": "code",
      "execution_count": 6,
      "metadata": {
        "colab": {
          "base_uri": "https://localhost:8080/"
        },
        "id": "VZNOnCJMuaqj",
        "outputId": "1a4761d6-63f1-4f19-be78-6ce593af17ed"
      },
      "outputs": [
        {
          "output_type": "stream",
          "name": "stdout",
          "text": [
            "Nossos dados de vendas de exemplo:\n",
            "    Produto  Vendas Regiao\n",
            "0  Camiseta     100  Norte\n",
            "1     Calça     150    Sul\n",
            "2  Camiseta     120  Leste\n",
            "3      Boné      50  Norte\n",
            "4     Calça     200  Oeste\n",
            "5  Camiseta      90    Sul\n",
            "------------------------------\n"
          ]
        }
      ],
      "source": [
        "import pandas as pd\n",
        "\n",
        "# Criando um DataFrame (nossa \"planilha\" de dados) de exemplo\n",
        "dados_vendas = {\n",
        "    'Produto': ['Camiseta', 'Calça', 'Camiseta', 'Boné', 'Calça', 'Camiseta'],\n",
        "    'Vendas': [100, 150, 120, 50, 200, 90],\n",
        "    'Regiao': ['Norte', 'Sul', 'Leste', 'Norte', 'Oeste', 'Sul']\n",
        "}\n",
        "df_vendas = pd.DataFrame(dados_vendas)\n",
        "\n",
        "print(\"Nossos dados de vendas de exemplo:\")\n",
        "print(df_vendas)\n",
        "print(\"-\" * 30)"
      ]
    },
    {
      "cell_type": "code",
      "source": [
        "# Função para analisar as vendas de um produto específico\n",
        "def analisar_vendas_produto(produto_nome):\n",
        "    # Princípio: Acessar e Processar Dados\n",
        "    # Filtra o DataFrame para pegar apenas as linhas do produto desejado\n",
        "    vendas_do_produto = df_vendas[df_vendas['Produto'].str.lower() == produto_nome.lower()]\n",
        "\n",
        "    if vendas_do_produto.empty:\n",
        "        return f\"Não encontrei dados para o produto '{produto_nome}'. Tem certeza que o nome está correto?\"\n",
        "    else:\n",
        "        # Soma as vendas para o produto encontrado\n",
        "        total_vendas = vendas_do_produto['Vendas'].sum()\n",
        "        # Calcula a média das vendas\n",
        "        media_vendas = vendas_do_produto['Vendas'].mean()\n",
        "\n",
        "        # Princípio: Gerar Insights Claras\n",
        "        return (f\"As vendas totais do produto '{produto_nome}' foram de R${total_vendas:.2f}. \"\n",
        "                f\"A média de vendas por registro para este produto foi de R${media_vendas:.2f}.\")"
      ],
      "metadata": {
        "id": "lkBRui_lutfo"
      },
      "execution_count": 7,
      "outputs": []
    },
    {
      "cell_type": "code",
      "source": [
        "def chatbot_resposta(pergunta_usuario):\n",
        "    pergunta_usuario_lower = pergunta_usuario.lower()\n",
        "\n",
        "    # Princípio: Entender a Intenção do Usuário\n",
        "    # Nossa intenção principal por enquanto é \"saber sobre vendas\"\n",
        "    if \"vendas\" in pergunta_usuario_lower or \"quanto vendeu\" in pergunta_usuario_lower:\n",
        "        print(\"Chatbot: Entendi que você quer saber sobre vendas!\")\n",
        "\n",
        "        # Princípio: Extrair Entidades Chave\n",
        "        # Vamos tentar encontrar o nome de um produto na pergunta\n",
        "        produtos_disponiveis = [p.lower() for p in df_vendas['Produto'].unique()] # Lista de produtos únicos\n",
        "\n",
        "        produto_encontrado = None\n",
        "        for produto in produtos_disponiveis:\n",
        "            if produto in pergunta_usuario_lower:\n",
        "                produto_encontrado = produto\n",
        "                break # Encontrou um produto, pode parar de procurar\n",
        "\n",
        "        if produto_encontrado:\n",
        "            print(f\"Chatbot: Identifiquei o produto '{produto_encontrado}'.\")\n",
        "            # Chama nossa função de análise de dados\n",
        "            return analisar_vendas_produto(produto_encontrado)\n",
        "        else:\n",
        "            return \"Sobre qual produto você gostaria de saber as vendas? (ex: Camiseta, Calça, Boné)\"\n",
        "    elif \"olá\" in pergunta_usuario_lower or \"oi\" in pergunta_usuario_lower:\n",
        "        return \"Olá! Como posso ajudar você hoje com os dados de vendas?\"\n",
        "    elif \"sair\" in pergunta_usuario_lower or \"tchau\" in pergunta_usuario_lower:\n",
        "        return \"Até mais! Se precisar de mais insights, é só chamar.\"\n",
        "    else:\n",
        "        return \"Desculpe, não entendi sua pergunta. Posso te ajudar a saber sobre as vendas de produtos.\""
      ],
      "metadata": {
        "id": "VAdW1nlhvY7l"
      },
      "execution_count": 8,
      "outputs": []
    },
    {
      "cell_type": "code",
      "source": [
        "# --- Loop Principal do Chatbot ---\n",
        "print(\"Bem-vindo ao Chatbot de Análise de Vendas! Digite 'sair' para encerrar.\")\n",
        "\n",
        "while True:\n",
        "    pergunta = input(\"Você: \")\n",
        "    if pergunta.lower() == \"sair\":\n",
        "        print(chatbot_resposta(pergunta))\n",
        "        break\n",
        "    else:\n",
        "        resposta = chatbot_resposta(pergunta)\n",
        "        print(f\"Chatbot: {resposta}\")"
      ],
      "metadata": {
        "colab": {
          "base_uri": "https://localhost:8080/"
        },
        "id": "DjS3mhyBvoC0",
        "outputId": "7ad9a495-72e8-4016-c221-2114b7459721"
      },
      "execution_count": 10,
      "outputs": [
        {
          "output_type": "stream",
          "name": "stdout",
          "text": [
            "Bem-vindo ao Chatbot de Análise de Vendas! Digite 'sair' para encerrar.\n",
            "Você: Quero saber as vendas?\n",
            "Chatbot: Entendi que você quer saber sobre vendas!\n",
            "Chatbot: Sobre qual produto você gostaria de saber as vendas? (ex: Camiseta, Calça, Boné)\n",
            "Você: Quanto vendeu a camiseta?\n",
            "Chatbot: Entendi que você quer saber sobre vendas!\n",
            "Chatbot: Identifiquei o produto 'camiseta'.\n",
            "Chatbot: As vendas totais do produto 'camiseta' foram de R$310.00. A média de vendas por registro para este produto foi de R$103.33.\n",
            "Você: Me fala das vendas da calça?\n",
            "Chatbot: Entendi que você quer saber sobre vendas!\n",
            "Chatbot: Identifiquei o produto 'calça'.\n",
            "Chatbot: As vendas totais do produto 'calça' foram de R$350.00. A média de vendas por registro para este produto foi de R$175.00.\n",
            "Você: Vendas do boné?\n",
            "Chatbot: Entendi que você quer saber sobre vendas!\n",
            "Chatbot: Identifiquei o produto 'boné'.\n",
            "Chatbot: As vendas totais do produto 'boné' foram de R$50.00. A média de vendas por registro para este produto foi de R$50.00.\n",
            "Você: Quanto vendeu o sapato?\n",
            "Chatbot: Entendi que você quer saber sobre vendas!\n",
            "Chatbot: Sobre qual produto você gostaria de saber as vendas? (ex: Camiseta, Calça, Boné)\n",
            "Você: sair\n",
            "Até mais! Se precisar de mais insights, é só chamar.\n"
          ]
        }
      ]
    }
  ]
}